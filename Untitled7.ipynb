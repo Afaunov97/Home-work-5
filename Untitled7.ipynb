{
 "cells": [
  {
   "cell_type": "code",
   "execution_count": 2,
   "metadata": {},
   "outputs": [],
   "source": [
    "documents = [\n",
    " {'type': 'passport', 'number': '2207 876234', 'name': 'Василий Гупкин'},\n",
    " {'type': 'invoice', 'number': '11-2', 'name': 'Геннадий Покемонов'},\n",
    " {'type': 'insurance', 'number': '10006', 'name': 'Аристарх Павлов'}\n",
    "]\n",
    "\n",
    "directories = {\n",
    " '1': ['2207 876234', '11-2'],\n",
    " '2': ['10006'],\n",
    " '3': []\n",
    "}"
   ]
  },
  {
   "cell_type": "markdown",
   "metadata": {},
   "source": [
    "Задание 1"
   ]
  },
  {
   "cell_type": "code",
   "execution_count": 35,
   "metadata": {
    "scrolled": false
   },
   "outputs": [
    {
     "name": "stdout",
     "output_type": "stream",
     "text": [
      "Введите команду:p\n",
      "Введите номер документа:11-2\n",
      "Геннадий Покемонов\n"
     ]
    }
   ],
   "source": [
    "def p():\n",
    "    user_input = input('Введите команду:')\n",
    "    if user_input == 'p':\n",
    "        found = False\n",
    "        num = input(\"Введите номер документа:\")\n",
    "        for dic in documents:\n",
    "            if \"number\" in dic.keys() and dic[\"number\"] == num:\n",
    "                    print(dic[\"name\"])\n",
    "                    found = True\n",
    "                    \n",
    "        if not found:\n",
    "            print(\"Документ не найден в базе\")\n",
    "\n",
    "p()"
   ]
  },
  {
   "cell_type": "markdown",
   "metadata": {},
   "source": [
    "Задание 2"
   ]
  },
  {
   "cell_type": "code",
   "execution_count": 39,
   "metadata": {},
   "outputs": [
    {
     "name": "stdout",
     "output_type": "stream",
     "text": [
      "Введите команду:s\n",
      "Введите номер документа: 11-2\n",
      "Документ хранится на полке : 1\n"
     ]
    }
   ],
   "source": [
    "def s(document_number):\n",
    "    user_input = input('Введите команду:')\n",
    "    document_number = input(\"Введите номер документа: \")\n",
    "    if user_input == 's':\n",
    "        for k in directories:\n",
    "            if document_number in directories[k]:\n",
    "                print(f'Документ хранится на полке : {k}' )\n",
    "        \n",
    "    else:\n",
    "        print(\"Документ не найден\")\n",
    "\n",
    "s(document_number)"
   ]
  },
  {
   "cell_type": "markdown",
   "metadata": {},
   "source": [
    "Задание 3"
   ]
  },
  {
   "cell_type": "code",
   "execution_count": 65,
   "metadata": {},
   "outputs": [
    {
     "name": "stdout",
     "output_type": "stream",
     "text": [
      "{'type': 'passport', 'number': '2207 876234', 'name': 'Василий Гупкин', 'полка хранения': '1'}\n",
      "{'type': 'invoice', 'number': '11-2', 'name': 'Геннадий Покемонов', 'полка хранения': '1'}\n",
      "{'type': 'insurance', 'number': '10006', 'name': 'Аристарх Павлов', 'полка хранения': '2'}\n"
     ]
    }
   ],
   "source": [
    "def l():\n",
    "    for inf in documents:\n",
    "        dir = list(filter(lambda e: inf['number'] in e[1], directories.items()))[0]\n",
    "        inf ['полка хранения'] = dir[0]\n",
    "        print(inf)\n",
    "l()"
   ]
  },
  {
   "cell_type": "markdown",
   "metadata": {},
   "source": [
    "Задание 4"
   ]
  },
  {
   "cell_type": "code",
   "execution_count": 2,
   "metadata": {
    "scrolled": true
   },
   "outputs": [
    {
     "name": "stdout",
     "output_type": "stream",
     "text": [
      "Введите команду:54\n",
      "Введите номер полки: 545\n"
     ]
    }
   ],
   "source": [
    "def add_shelf(dir_n):\n",
    "    user_input = input('Введите команду:')\n",
    "    number = input(\"Введите номер полки: \")\n",
    "    if user_input == 'as':\n",
    "        for key,value in  directories.items():\n",
    "                if dir_n in value:\n",
    "                    value.append(number)\n",
    "                    return 'Полка добавлена. Текущий перечень полок: ''\n",
    "print(directories)\n",
    "add_shelf()"
   ]
  },
  {
   "cell_type": "markdown",
   "metadata": {},
   "source": [
    "Задание 5"
   ]
  },
  {
   "cell_type": "code",
   "execution_count": 9,
   "metadata": {
    "scrolled": false
   },
   "outputs": [
    {
     "name": "stdout",
     "output_type": "stream",
     "text": [
      "Введите команду:ad\n",
      "Введите номер документа, который хотите удалить: a\n",
      "Документ не существует\n",
      "[{'type': 'passport', 'number': '2207 876234', 'name': 'Василий Гупкин'}, {'type': 'invoice', 'number': '11-2', 'name': 'Геннадий Покемонов'}, {'type': 'insurance', 'number': '10006', 'name': 'Аристарх Павлов'}, {'type': '54', 'number': '5', 'name': '4'}, {'type': '1', 'number': '2', 'name': '2'}]\n",
      "{'1': ['2207 876234', '11-2'], '2': [], '3': ['10006', '5', '2']}\n"
     ]
    }
   ],
   "source": [
    "def d(documents_number):\n",
    "    initial_len = len(documents)\n",
    "    for i, d in enumerate(documents):\n",
    "        if d[\"number\"] == documents_number:\n",
    "            documents.pop(i)\n",
    "\n",
    "    if initial_len == len(documents):\n",
    "        return \"Документ не существует\"\n",
    "\n",
    "    for key, value in directories.items():\n",
    "        if documentsnumber in value:\n",
    "            value.remove(documents_number)\n",
    "        return \"Полка удалена. Текущий перечень полок: \"\n",
    "user_input = input('Введите команду:')\n",
    "if user_input == 'ad':\n",
    "    doc_number = input(\"Введите номер документа, который хотите удалить: \")\n",
    "print(d(doc_number))\n",
    "print(documents)\n",
    "print(directories)"
   ]
  },
  {
   "cell_type": "markdown",
   "metadata": {},
   "source": [
    "Задание 6"
   ]
  },
  {
   "cell_type": "code",
   "execution_count": 8,
   "metadata": {
    "scrolled": true
   },
   "outputs": [
    {
     "name": "stdout",
     "output_type": "stream",
     "text": [
      "Введите команду:ad\n",
      "Введите тип докемента: 1\n",
      "Введите номер документа: 2\n",
      "Введите имя владельца документа: 2\n",
      "Введит номер полки dict_keys(['1', '2', '3']) : 3\n",
      "Документ успешно добавлен\n",
      "\n",
      "[{'type': 'passport', 'number': '2207 876234', 'name': 'Василий Гупкин'}, {'type': 'invoice', 'number': '11-2', 'name': 'Геннадий Покемонов'}, {'type': 'insurance', 'number': '10006', 'name': 'Аристарх Павлов'}, {'type': '54', 'number': '5', 'name': '4'}, {'type': '1', 'number': '2', 'name': '2'}]\n",
      "\n",
      "{'1': ['2207 876234', '11-2'], '2': [], '3': ['10006', '5', '2']}\n"
     ]
    }
   ],
   "source": [
    "def ad(documents_type, documents_number, documents_owner, shelf_id):\n",
    "    if shelf_id not in directories:\n",
    "        return \"Такой полки не существует. Добавьте полку командой as\"\n",
    "    new_documents = dict(type=documents_type, number=documents_number, name=documents_owner)\n",
    "    documents.append(new_documents)\n",
    "    directories[shelf_id] += [documents_number]\n",
    "\n",
    "    return \"Документ успешно добавлен\"\n",
    "\n",
    "user_input = input('Введите команду:')\n",
    "if user_input == 'ad':\n",
    "    documents_type = input(\"Введите тип докемента: \")\n",
    "    documents_number = input(\"Введите номер документа: \")\n",
    "    documents_owner = input(\"Введите имя владельца документа: \")\n",
    "shelf_id = input(\"Введит номер полки {} : \".format(directories.keys()))\n",
    "print(a(documents_type, documents_number, documents_owner, shelf_id))\n",
    "print('')\n",
    "print(documents)\n",
    "print('')\n",
    "print(directories)"
   ]
  }
 ],
 "metadata": {
  "kernelspec": {
   "display_name": "Python 3",
   "language": "python",
   "name": "python3"
  },
  "language_info": {
   "codemirror_mode": {
    "name": "ipython",
    "version": 3
   },
   "file_extension": ".py",
   "mimetype": "text/x-python",
   "name": "python",
   "nbconvert_exporter": "python",
   "pygments_lexer": "ipython3",
   "version": "3.8.3"
  }
 },
 "nbformat": 4,
 "nbformat_minor": 4
}
